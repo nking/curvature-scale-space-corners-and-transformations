{
 "cells": [
  {
   "cell_type": "markdown",
   "id": "cc09b7e0-fdac-46ce-ad36-aa253f41f45c",
   "metadata": {},
   "source": [
    "fine-tuning a pretrained object detection model"
   ]
  },
  {
   "cell_type": "code",
   "execution_count": null,
   "id": "63e21a34-4b97-4486-bb78-faa6f4dc1ecf",
   "metadata": {},
   "outputs": [],
   "source": [
    "import os\n",
    "os.environ[\"KERAS_BACKEND\"] = \"jax\" #\"tensorflow\"\n",
    "import keras\n",
    "#NOTE: had problems with a locked connection to kears_hub, possibly after restarting the kernel a couple of times\n",
    "import keras_hub\n",
    "import numpy as np\n",
    "import tensorflow as tf\n"
   ]
  },
  {
   "cell_type": "code",
   "execution_count": null,
   "id": "35fc86f0-ac65-40a1-9269-01b6f090d844",
   "metadata": {},
   "outputs": [
    {
     "name": "stderr",
     "output_type": "stream",
     "text": [
      "/Volumes/portable2/data/projects/python_venv/lib/python3.13/site-packages/google/protobuf/runtime_version.py:98: UserWarning: Protobuf gencode version 5.28.3 is exactly one major version older than the runtime version 6.31.1 at tensorflow/core/framework/attr_value.proto. Please update the gencode to avoid compatibility violations in the next runtime release.\n",
      "  warnings.warn(\n",
      "/Volumes/portable2/data/projects/python_venv/lib/python3.13/site-packages/google/protobuf/runtime_version.py:98: UserWarning: Protobuf gencode version 5.28.3 is exactly one major version older than the runtime version 6.31.1 at tensorflow/core/framework/tensor.proto. Please update the gencode to avoid compatibility violations in the next runtime release.\n",
      "  warnings.warn(\n",
      "/Volumes/portable2/data/projects/python_venv/lib/python3.13/site-packages/google/protobuf/runtime_version.py:98: UserWarning: Protobuf gencode version 5.28.3 is exactly one major version older than the runtime version 6.31.1 at tensorflow/core/framework/resource_handle.proto. Please update the gencode to avoid compatibility violations in the next runtime release.\n",
      "  warnings.warn(\n",
      "/Volumes/portable2/data/projects/python_venv/lib/python3.13/site-packages/google/protobuf/runtime_version.py:98: UserWarning: Protobuf gencode version 5.28.3 is exactly one major version older than the runtime version 6.31.1 at tensorflow/core/framework/tensor_shape.proto. Please update the gencode to avoid compatibility violations in the next runtime release.\n",
      "  warnings.warn(\n",
      "/Volumes/portable2/data/projects/python_venv/lib/python3.13/site-packages/google/protobuf/runtime_version.py:98: UserWarning: Protobuf gencode version 5.28.3 is exactly one major version older than the runtime version 6.31.1 at tensorflow/core/framework/types.proto. Please update the gencode to avoid compatibility violations in the next runtime release.\n",
      "  warnings.warn(\n",
      "/Volumes/portable2/data/projects/python_venv/lib/python3.13/site-packages/google/protobuf/runtime_version.py:98: UserWarning: Protobuf gencode version 5.28.3 is exactly one major version older than the runtime version 6.31.1 at tensorflow/core/framework/full_type.proto. Please update the gencode to avoid compatibility violations in the next runtime release.\n",
      "  warnings.warn(\n",
      "/Volumes/portable2/data/projects/python_venv/lib/python3.13/site-packages/google/protobuf/runtime_version.py:98: UserWarning: Protobuf gencode version 5.28.3 is exactly one major version older than the runtime version 6.31.1 at tensorflow/core/framework/function.proto. Please update the gencode to avoid compatibility violations in the next runtime release.\n",
      "  warnings.warn(\n",
      "/Volumes/portable2/data/projects/python_venv/lib/python3.13/site-packages/google/protobuf/runtime_version.py:98: UserWarning: Protobuf gencode version 5.28.3 is exactly one major version older than the runtime version 6.31.1 at tensorflow/core/framework/node_def.proto. Please update the gencode to avoid compatibility violations in the next runtime release.\n",
      "  warnings.warn(\n",
      "/Volumes/portable2/data/projects/python_venv/lib/python3.13/site-packages/google/protobuf/runtime_version.py:98: UserWarning: Protobuf gencode version 5.28.3 is exactly one major version older than the runtime version 6.31.1 at tensorflow/core/framework/op_def.proto. Please update the gencode to avoid compatibility violations in the next runtime release.\n",
      "  warnings.warn(\n",
      "/Volumes/portable2/data/projects/python_venv/lib/python3.13/site-packages/google/protobuf/runtime_version.py:98: UserWarning: Protobuf gencode version 5.28.3 is exactly one major version older than the runtime version 6.31.1 at tensorflow/core/framework/graph.proto. Please update the gencode to avoid compatibility violations in the next runtime release.\n",
      "  warnings.warn(\n",
      "/Volumes/portable2/data/projects/python_venv/lib/python3.13/site-packages/google/protobuf/runtime_version.py:98: UserWarning: Protobuf gencode version 5.28.3 is exactly one major version older than the runtime version 6.31.1 at tensorflow/core/framework/graph_debug_info.proto. Please update the gencode to avoid compatibility violations in the next runtime release.\n",
      "  warnings.warn(\n",
      "/Volumes/portable2/data/projects/python_venv/lib/python3.13/site-packages/google/protobuf/runtime_version.py:98: UserWarning: Protobuf gencode version 5.28.3 is exactly one major version older than the runtime version 6.31.1 at tensorflow/core/framework/versions.proto. Please update the gencode to avoid compatibility violations in the next runtime release.\n",
      "  warnings.warn(\n",
      "/Volumes/portable2/data/projects/python_venv/lib/python3.13/site-packages/google/protobuf/runtime_version.py:98: UserWarning: Protobuf gencode version 5.28.3 is exactly one major version older than the runtime version 6.31.1 at tensorflow/core/protobuf/config.proto. Please update the gencode to avoid compatibility violations in the next runtime release.\n",
      "  warnings.warn(\n",
      "/Volumes/portable2/data/projects/python_venv/lib/python3.13/site-packages/google/protobuf/runtime_version.py:98: UserWarning: Protobuf gencode version 5.28.3 is exactly one major version older than the runtime version 6.31.1 at xla/tsl/protobuf/coordination_config.proto. Please update the gencode to avoid compatibility violations in the next runtime release.\n",
      "  warnings.warn(\n",
      "/Volumes/portable2/data/projects/python_venv/lib/python3.13/site-packages/google/protobuf/runtime_version.py:98: UserWarning: Protobuf gencode version 5.28.3 is exactly one major version older than the runtime version 6.31.1 at tensorflow/core/framework/cost_graph.proto. Please update the gencode to avoid compatibility violations in the next runtime release.\n",
      "  warnings.warn(\n",
      "/Volumes/portable2/data/projects/python_venv/lib/python3.13/site-packages/google/protobuf/runtime_version.py:98: UserWarning: Protobuf gencode version 5.28.3 is exactly one major version older than the runtime version 6.31.1 at tensorflow/core/framework/step_stats.proto. Please update the gencode to avoid compatibility violations in the next runtime release.\n",
      "  warnings.warn(\n",
      "/Volumes/portable2/data/projects/python_venv/lib/python3.13/site-packages/google/protobuf/runtime_version.py:98: UserWarning: Protobuf gencode version 5.28.3 is exactly one major version older than the runtime version 6.31.1 at tensorflow/core/framework/allocation_description.proto. Please update the gencode to avoid compatibility violations in the next runtime release.\n",
      "  warnings.warn(\n",
      "/Volumes/portable2/data/projects/python_venv/lib/python3.13/site-packages/google/protobuf/runtime_version.py:98: UserWarning: Protobuf gencode version 5.28.3 is exactly one major version older than the runtime version 6.31.1 at tensorflow/core/framework/tensor_description.proto. Please update the gencode to avoid compatibility violations in the next runtime release.\n",
      "  warnings.warn(\n",
      "/Volumes/portable2/data/projects/python_venv/lib/python3.13/site-packages/google/protobuf/runtime_version.py:98: UserWarning: Protobuf gencode version 5.28.3 is exactly one major version older than the runtime version 6.31.1 at tensorflow/core/protobuf/cluster.proto. Please update the gencode to avoid compatibility violations in the next runtime release.\n",
      "  warnings.warn(\n",
      "/Volumes/portable2/data/projects/python_venv/lib/python3.13/site-packages/google/protobuf/runtime_version.py:98: UserWarning: Protobuf gencode version 5.28.3 is exactly one major version older than the runtime version 6.31.1 at tensorflow/core/protobuf/debug.proto. Please update the gencode to avoid compatibility violations in the next runtime release.\n",
      "  warnings.warn(\n"
     ]
    }
   ],
   "source": [
    "import load_statues\n",
    "num_classes_custom = len(load_statues.class_mapping) #9\n",
    "print(f'num_classes_custom={num_classes_custom}')"
   ]
  },
  {
   "cell_type": "markdown",
   "id": "4868949f-0a74-4806-a485-ca3e4d62942a",
   "metadata": {},
   "source": [
    "bounding box formats\n",
    "\n",
    "\"xyxy\"\tBoxes defined by (x_min, y_min, x_max, y_max) — corners of the box\n",
    "\"yxyx\"\tBoxes defined by (y_min, x_min, y_max, x_max) — same as above, but reordered\n",
    "\"xywh\"\tBoxes defined by (x_center, y_center, width, height) — center + dimensions\n",
    "\"center_xywh\"\tUsed internally for encoding offsets during training\n",
    "\n",
    "here, using yxyx which is the same as used by the preset directory file image_converter.json\n"
   ]
  },
  {
   "cell_type": "markdown",
   "id": "c775d14a-651d-4744-a336-accffed3f3e6",
   "metadata": {},
   "source": [
    "Label Encoding:\n",
    "Transform your raw bounding box and class label data into the format expected by the RetinaNet's loss function. This involves generating anchor boxes and assigning ground truth boxes to these anchors, as well as creating classification and regression targets.\n",
    "KerasCV provides RetinaNetLabelEncoder for this purpose.\n",
    "\n",
    "Data Augmentation (Optional but Recommended):\n",
    "Apply data augmentation techniques to increase the diversity of your training data and improve model generalization. For object detection, this requires bounding box-aware augmentations like random scaling, cropping, flipping, and color adjustments.\n",
    "KerasCV's augmentation layers are particularly useful here as they automatically adjust bounding box coordinates.\n",
    "\n"
   ]
  },
  {
   "cell_type": "code",
   "execution_count": null,
   "id": "66696fd2-6167-4125-961e-1e3f92f0b20f",
   "metadata": {},
   "outputs": [],
   "source": [
    "task = keras_hub.models.ObjectDetector.from_preset(\"hf://keras/retinanet_resnet50_fpn_v2_coco\")\n",
    "      "
   ]
  },
  {
   "cell_type": "code",
   "execution_count": null,
   "id": "f0908939-07a2-4d50-8dc3-769fa49845d0",
   "metadata": {},
   "outputs": [],
   "source": [
    "keras.__version__\n",
    "\n",
    "#31.56M parameters\n",
    "#!pip install huggingface_hub\n",
    "preset = \"hf://keras/retinanet_resnet50_fpn_v2_coco\"\n",
    "\n",
    "#Uses FPN features from P5 level, also fine-tuned on COCO at 800×800 resolution\n",
    "model = keras_hub.models.RetinaNetObjectDetector.from_preset(\n",
    "    preset=preset, \n",
    "    num_classes=num_classes_custom,\n",
    "    bounding_box_format=\"yxyx\" #same as used by image_converter.json\n",
    ")\n",
    "\n",
    "# keras_hub.models.Preprocessor\n",
    "#preprocessor = keras_hub.models.ObjectDetectorPreprocessor.from_preset(\n",
    "#    preset,\n",
    "#)\n",
    "preprocessor = keras_hub.models.RetinaNetObjectDetectorPreprocessor.from_preset(\n",
    "    preset\n",
    ")\n",
    "\n",
    "# keras_hub.layers.ImageConverter \n",
    "#image_convertor = keras_hub.layers.RetinaNetImageConverter.from_preset(preset)\n",
    "#image_convertor = preprocessor.image_converter\n",
    "\n",
    "#RetinaNet typically uses focal loss for classification \n",
    "#and smooth L1 loss for bounding box regression.\n",
    "model.compile(\n",
    "    optimizer=keras.optimizers.Adam(learning_rate=0.0001),\n",
    "    loss={\n",
    "        \"classification_loss\": hub.losses.FocalLoss(alpha=0.25, gamma=2.0),\n",
    "        \"box_loss\": hub.losses.SmoothL1Loss()\n",
    "    },\n",
    "    metrics=[\"classification_accuracy\"] # Add other relevant metrics\n",
    ")\n",
    "\n",
    "for layer in model.backbone.layers:\n",
    "    layer.trainable = False\n",
    "\n",
    "'''\n",
    "label_encoder = keras_hub.layers.RetinaNetLabelEncoder(\n",
    "    anchor_generator=your_anchor_generator,  # or None to use default\n",
    "    bounding_box_format=\"xyxy\",              # match your dataset format\n",
    "    positive_threshold=0.5,\n",
    "    negative_threshold=0.4,\n",
    "    encoding_format=\"center_xywh\",\n",
    "    box_variance=[1.0, 1.0, 1.0, 1.0],\n",
    "    background_class=-1,\n",
    "    ignore_class=-2\n",
    ")\n",
    "{\n",
    "  \"images\": Tensor of shape (batch_size, height, width, channels),\n",
    "  \"labels\": {\n",
    "    \"boxes\": Tensor of shape (batch_size, num_boxes, 4),\n",
    "    \"classes\": Tensor of shape (batch_size, num_boxes)\n",
    "  }\n",
    "}\n",
    "\n",
    "x = ...  # Your image or batch of images\n",
    "y = {\n",
    "    \"boxes\": ...,   # Tensor of shape (batch_size, num_boxes, 4)\n",
    "    \"classes\": ...  # Tensor of shape (batch_size, num_boxes)\n",
    "}\n",
    "'''\n",
    "\n",
    "#x_processed, y_processed = preprocessor(x, y)\n",
    "\n",
    "#model.fit(\n",
    "#    train_dataset,\n",
    "#    epochs=num_epochs,\n",
    "#    validation_data=validation_dataset\n",
    "#)\n",
    "\n"
   ]
  },
  {
   "cell_type": "code",
   "execution_count": null,
   "id": "98a389e5-ce21-413d-82c8-9aa688c29602",
   "metadata": {},
   "outputs": [],
   "source": []
  }
 ],
 "metadata": {
  "kernelspec": {
   "display_name": "Python 3 (ipykernel)",
   "language": "python",
   "name": "python3"
  },
  "language_info": {
   "codemirror_mode": {
    "name": "ipython",
    "version": 3
   },
   "file_extension": ".py",
   "mimetype": "text/x-python",
   "name": "python",
   "nbconvert_exporter": "python",
   "pygments_lexer": "ipython3",
   "version": "3.13.5"
  }
 },
 "nbformat": 4,
 "nbformat_minor": 5
}
